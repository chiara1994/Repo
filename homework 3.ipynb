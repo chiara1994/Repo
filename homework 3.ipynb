{
 "cells": [
  {
   "cell_type": "markdown",
   "metadata": {},
   "source": [
    "Crea una matrice 3x3 con valori compresi tra 0 e 8"
   ]
  },
  {
   "cell_type": "code",
   "execution_count": 29,
   "metadata": {},
   "outputs": [],
   "source": [
    "import numpy as np\n",
    "import numpy.random "
   ]
  },
  {
   "cell_type": "code",
   "execution_count": 30,
   "metadata": {},
   "outputs": [
    {
     "data": {
      "text/plain": [
       "array([[0, 1, 2],\n",
       "       [3, 4, 5],\n",
       "       [6, 7, 8]])"
      ]
     },
     "execution_count": 30,
     "metadata": {},
     "output_type": "execute_result"
    }
   ],
   "source": [
    "a = np.arange(9).reshape(3,3)\n",
    "a"
   ]
  },
  {
   "cell_type": "markdown",
   "metadata": {},
   "source": [
    "Crea un vettore random con 30 elementi e trova il valore medio"
   ]
  },
  {
   "cell_type": "code",
   "execution_count": 56,
   "metadata": {},
   "outputs": [
    {
     "name": "stdout",
     "output_type": "stream",
     "text": [
      "[ 9.83 42.11 95.79 53.32 69.19 31.55 68.65 83.46  1.83 75.01 98.89 74.82\n",
      " 28.04 78.93 10.32 44.79 90.86 29.36 28.78 13.    1.94 67.88 21.16 26.55\n",
      " 49.16  5.34 57.41 14.67 58.93 69.98]\n",
      "\n",
      "\n",
      "46.72\n"
     ]
    }
   ],
   "source": [
    "b=np.random.random(30)* 100\n",
    "c = np.around(b,2)\n",
    "print(c)\n",
    "print('\\n')\n",
    "print(round(np.mean(c), 2))\n",
    "\n"
   ]
  },
  {
   "cell_type": "markdown",
   "metadata": {},
   "source": [
    "Trova gli indici degli elementi diversi da zero del seguente array [3,5,0,4,0,8,0]"
   ]
  },
  {
   "cell_type": "code",
   "execution_count": 62,
   "metadata": {},
   "outputs": [
    {
     "name": "stdout",
     "output_type": "stream",
     "text": [
      "(array([0, 1, 3, 5], dtype=int32),)\n"
     ]
    }
   ],
   "source": [
    "d = np.array([3,5,0,4,0,8,0])\n",
    "e = np.where(d != 0)\n",
    "print(e)"
   ]
  },
  {
   "cell_type": "markdown",
   "metadata": {},
   "source": [
    "Scrivi un programma per ottenere gli indici degli elementi ordinati di un dato array ,esempio :\n",
    "\n",
    "array: [1023 5202 6230 1671 1682 5241 4532]\n",
    "\n",
    "indice degli elementi ordinati dell'array :[0 3 4 6 1 5 2]"
   ]
  },
  {
   "cell_type": "code",
   "execution_count": 103,
   "metadata": {},
   "outputs": [],
   "source": [
    "f = np.array([300, 500, 150, 6000, 200])"
   ]
  },
  {
   "cell_type": "code",
   "execution_count": 104,
   "metadata": {},
   "outputs": [
    {
     "data": {
      "text/plain": [
       "array([2, 4, 0, 1, 3], dtype=int32)"
      ]
     },
     "execution_count": 104,
     "metadata": {},
     "output_type": "execute_result"
    }
   ],
   "source": [
    "np.argsort(f)"
   ]
  },
  {
   "cell_type": "markdown",
   "metadata": {},
   "source": [
    "Scrivi un programma che calcola la media attraverso la dimensione, in un array 2D ,esempio :\n",
    "\n",
    "array:\n",
    "[[10 30]\n",
    "\n",
    "[20 60]]\n",
    "\n",
    "media di ogni colonna: [15 45]\n",
    "\n",
    "media di ogni riga: [20 40]"
   ]
  },
  {
   "cell_type": "code",
   "execution_count": 110,
   "metadata": {},
   "outputs": [
    {
     "name": "stdout",
     "output_type": "stream",
     "text": [
      "[[ 0  1  2  3  4]\n",
      " [ 5  6  7  8  9]\n",
      " [10 11 12 13 14]\n",
      " [15 16 17 18 19]\n",
      " [20 21 22 23 24]\n",
      " [25 26 27 28 29]\n",
      " [30 31 32 33 34]\n",
      " [35 36 37 38 39]\n",
      " [40 41 42 43 44]\n",
      " [45 46 47 48 49]]\n",
      "\n",
      "media di ogni colonna [22.5 23.5 24.5 25.5 26.5]\n",
      "\n",
      "media di ogni riga [ 2.  7. 12. 17. 22. 27. 32. 37. 42. 47.]\n"
     ]
    }
   ],
   "source": [
    "a = np.arange(50).reshape(10, 5)\n",
    "print(a, end = \"\\n\\n\")\n",
    "print(\"media di ogni colonna\", np.mean(a, axis = 0), end = \"\\n\\n\")\n",
    "print(\"media di ogni riga\", np.mean(a, axis = 1))"
   ]
  }
 ],
 "metadata": {
  "kernelspec": {
   "display_name": "Python 3",
   "language": "python",
   "name": "python3"
  },
  "language_info": {
   "codemirror_mode": {
    "name": "ipython",
    "version": 3
   },
   "file_extension": ".py",
   "mimetype": "text/x-python",
   "name": "python",
   "nbconvert_exporter": "python",
   "pygments_lexer": "ipython3",
   "version": "3.8.3"
  }
 },
 "nbformat": 4,
 "nbformat_minor": 4
}
