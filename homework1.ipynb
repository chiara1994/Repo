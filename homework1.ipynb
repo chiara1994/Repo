{
 "cells": [
  {
   "cell_type": "markdown",
   "metadata": {},
   "source": [
    "1) Data questa lista di interi lista = [0,2,5,7,8.9] calcola il massimo, minimo, somma e media dei suoi elementi"
   ]
  },
  {
   "cell_type": "code",
   "execution_count": 1,
   "metadata": {},
   "outputs": [],
   "source": [
    "from statistics import mean"
   ]
  },
  {
   "cell_type": "code",
   "execution_count": 2,
   "metadata": {},
   "outputs": [
    {
     "name": "stdout",
     "output_type": "stream",
     "text": [
      "il massimo è 9, il minimo è 0, la somma 31, mentre la media è 5.167\n"
     ]
    }
   ],
   "source": [
    "lista_interi = [0,2,5,7,8,9]\n",
    "print(\"il massimo è {}, il minimo è {}, la somma {}, mentre la media è {}\".format(max(lista_interi), min(lista_interi), sum(lista_interi), round(mean(lista_interi), 3)))"
   ]
  },
  {
   "cell_type": "code",
   "execution_count": 3,
   "metadata": {},
   "outputs": [],
   "source": [
    "# altrimenti"
   ]
  },
  {
   "cell_type": "code",
   "execution_count": 4,
   "metadata": {},
   "outputs": [
    {
     "name": "stdout",
     "output_type": "stream",
     "text": [
      "il massimo è 9\n",
      "il minimo è 0\n",
      "il risultato della somma degli elementi in lista è 31\n",
      "la media è 5.167\n"
     ]
    }
   ],
   "source": [
    "for num in lista_interi:\n",
    "    massimo = 0\n",
    "    if num > massimo:\n",
    "        massimo = num\n",
    "print (\"il massimo è {}\".format(massimo))\n",
    "\n",
    "for num in lista_interi:\n",
    "    minimo = 0\n",
    "    if num < minimo:\n",
    "        minimo= num\n",
    "print(\"il minimo è {}\".format(minimo))\n",
    "\n",
    "risultato = 0\n",
    "for num in lista_interi:\n",
    "    risultato += num\n",
    "print(\"il risultato della somma degli elementi in lista è {}\".format(risultato))\n",
    "\n",
    "somma = 0\n",
    "for num in lista_interi:\n",
    "     somma += num\n",
    "     media = somma/len(lista_interi)\n",
    "print(\"la media è {}\".format(round(media, 3)))"
   ]
  },
  {
   "cell_type": "markdown",
   "metadata": {},
   "source": [
    "2) Crea una lista vuota, inserisci numeri interi a tuo piacimento alla lista e poi rimuovi da essa solo i numeri pari"
   ]
  },
  {
   "cell_type": "code",
   "execution_count": 46,
   "metadata": {},
   "outputs": [
    {
     "name": "stdout",
     "output_type": "stream",
     "text": [
      "[88, 12, 4, 13, 0, 98, 77, 21, 43, 54, 90, 67, 11, 18, 100, 153, 87, 61]\n",
      "[13, 77, 21, 43, 67, 11, 153, 87, 61]\n"
     ]
    }
   ],
   "source": [
    "lista = []\n",
    "lista = lista + [88, 12, 4, 13, 0, 98, 77, 21, 43, 54, 90, 67, 11, 18, 100, 153, 87, 61]\n",
    "print(lista)\n",
    "lista_dispari = [numero for numero in lista if not numero % 2 == 0]\n",
    "print(lista_dispari)"
   ]
  },
  {
   "cell_type": "markdown",
   "metadata": {},
   "source": [
    "3) Crea una funzione che restituisca True se la lista di numeri interi che prende come parametro è una lista di quadrati perfetti (es 4, 9, 16 ecc..), False altrimenti"
   ]
  },
  {
   "cell_type": "code",
   "execution_count": 41,
   "metadata": {},
   "outputs": [],
   "source": [
    "import math\n",
    "def sqrt (list):\n",
    "    for numero in list:\n",
    "        if  math.sqrt(numero).is_integer():\n",
    "            return True\n",
    "        else:\n",
    "            return False"
   ]
  },
  {
   "cell_type": "code",
   "execution_count": 44,
   "metadata": {},
   "outputs": [],
   "source": [
    "quadrati_perfetti = [8, 3, 25, 36, 49, 64]"
   ]
  },
  {
   "cell_type": "code",
   "execution_count": 45,
   "metadata": {},
   "outputs": [
    {
     "data": {
      "text/plain": [
       "False"
      ]
     },
     "execution_count": 45,
     "metadata": {},
     "output_type": "execute_result"
    }
   ],
   "source": [
    "sqrt(quadrati_perfetti)"
   ]
  },
  {
   "cell_type": "code",
   "execution_count": null,
   "metadata": {},
   "outputs": [],
   "source": []
  },
  {
   "cell_type": "code",
   "execution_count": null,
   "metadata": {},
   "outputs": [],
   "source": []
  },
  {
   "cell_type": "markdown",
   "metadata": {},
   "source": [
    "4) Svolgi l'esercizio precedente utilizzando una compressione di liste"
   ]
  },
  {
   "cell_type": "code",
   "execution_count": 8,
   "metadata": {},
   "outputs": [],
   "source": [
    "comprensione_sqrt = [True if (math.sqrt(num)) == int(math.sqrt(num)) else False for num in lista]"
   ]
  },
  {
   "cell_type": "code",
   "execution_count": 9,
   "metadata": {},
   "outputs": [
    {
     "data": {
      "text/plain": [
       "[False,\n",
       " False,\n",
       " True,\n",
       " False,\n",
       " True,\n",
       " False,\n",
       " False,\n",
       " False,\n",
       " False,\n",
       " False,\n",
       " False,\n",
       " False,\n",
       " False,\n",
       " False,\n",
       " True,\n",
       " False,\n",
       " False,\n",
       " False]"
      ]
     },
     "execution_count": 9,
     "metadata": {},
     "output_type": "execute_result"
    }
   ],
   "source": [
    "comprensione_sqrt"
   ]
  },
  {
   "cell_type": "code",
   "execution_count": null,
   "metadata": {},
   "outputs": [],
   "source": []
  },
  {
   "cell_type": "code",
   "execution_count": null,
   "metadata": {},
   "outputs": [],
   "source": []
  },
  {
   "cell_type": "code",
   "execution_count": null,
   "metadata": {},
   "outputs": [],
   "source": []
  }
 ],
 "metadata": {
  "kernelspec": {
   "display_name": "Python 3",
   "language": "python",
   "name": "python3"
  },
  "language_info": {
   "codemirror_mode": {
    "name": "ipython",
    "version": 3
   },
   "file_extension": ".py",
   "mimetype": "text/x-python",
   "name": "python",
   "nbconvert_exporter": "python",
   "pygments_lexer": "ipython3",
   "version": "3.8.3"
  }
 },
 "nbformat": 4,
 "nbformat_minor": 4
}
